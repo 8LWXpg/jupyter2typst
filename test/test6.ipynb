{
 "cells": [
  {
   "cell_type": "markdown",
   "metadata": {},
   "source": [
    "$$\n",
    "\\begin{align}\n",
    "   a&=b+c \\\\\n",
    "   d+e&=f\n",
    "\\end{align}\n",
    "\\\\\n",
    "\\begin{matrix}\n",
    "   a & b \\cr\n",
    "   c & d\n",
    "\\end{matrix}\n",
    "\\\\\n",
    "\\begin{darray}{cc}\n",
    "   a & b \\\\\n",
    "   c & d\n",
    "\\end{darray}\n",
    "\\\\\n",
    "\\mathscr{AaBb}\\\\\n",
    "\\mathcal{AaBb}\\\\\n",
    "\\rlap{/}{=}\\\\\n",
    "\\def\\foo{a}\\xdef\\fcopy{\\foo}\\def\\foo{}\\fcopy\\\\\n",
    "\\fcopy{c}\\\\\n",
    "\\foo{b}\\\\\n",
    "\\frac{5}{4} = 1\\tfrac{1}{4}\\\\\n",
    "\\genfrac ( ] {2pt}0 a{a+1}\\\\\n",
    "\n",
    "\\operatorname*{asin}\\limits_y x\\\\\n",
    "x\\rule[10pt]{5ex}{7ex}x\\\\\n",
    "\\frac cd\\\\\n",
    "\\scriptscriptstyle \\frac cd\\\\\n",
    "\\scriptsize asfd\\\\\n",
    "\\stackrel{hello}{=}\\\\\n",
    "\\substack{0<i<m\\\\0<j<n} hello\\\\\n",
    "\\operatornamewithlimits{asin}\\limits_y x\\\\\n",
    "{=}\\mathllap{hello}\\\\\n",
    "{=}\\llap{hello}\\\\\n",
    "$$"
   ]
  },
  {
   "cell_type": "code",
   "execution_count": null,
   "metadata": {
    "vscode": {
     "languageId": "plaintext"
    }
   },
   "outputs": [],
   "source": []
  }
 ],
 "metadata": {
  "language_info": {
   "name": "python"
  },
  "orig_nbformat": 4
 },
 "nbformat": 4,
 "nbformat_minor": 2
}
