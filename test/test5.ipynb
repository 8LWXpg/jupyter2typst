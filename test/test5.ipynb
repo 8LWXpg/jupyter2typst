{
 "cells": [
  {
   "cell_type": "markdown",
   "metadata": {},
   "source": [
    "<font color=\"red\"><H1>LATEX INFO</H1></font>"
   ]
  },
  {
   "cell_type": "markdown",
   "metadata": {},
   "source": [
    "In new Jupyter notebooks I have been working you can just type latex in markdown cells and it works."
   ]
  },
  {
   "cell_type": "markdown",
   "metadata": {},
   "source": [
    "Example of new way on next line, but won't work in old canopy I have on home computer.  \n",
    "(kept old one so far because lets me edit directly in cnaopy whereas new Canopy goes to browser and is a bit annoying in opening and closing.)  \n",
    "To see it work, easiest way is to upload to tmpnb.org and use there."
   ]
  },
  {
   "cell_type": "markdown",
   "metadata": {},
   "source": [
    "$$\n",
    "\\begin{aligned}\n",
    "\\nabla \\times \\vec{\\mathbf{B}} -\\, \\frac1c\\, \\frac{\\partial\\vec{\\mathbf{E}}}{\\partial t} & = \\frac{4\\pi}{c}\\vec{\\mathbf{j}} \\\\\n",
    "\\nabla \\cdot \\vec{\\mathbf{E}} & = 4 \\pi \\rho \\\\\n",
    "\\nabla \\times \\vec{\\mathbf{E}}\\, +\\, \\frac1c\\, \\frac{\\partial\\vec{\\mathbf{B}}}{\\partial t} & = \\vec{\\mathbf{0}} \\\\\n",
    "\\nabla \\cdot \\vec{\\mathbf{B}} & = 0\n",
    "\\end{aligned}\n",
    "$$"
   ]
  },
  {
   "cell_type": "markdown",
   "metadata": {},
   "source": [
    "**Easy Equation writing examples**\n",
    "\n",
    "$$c = \\sqrt{a^2 + b^2}$$\n",
    "\n",
    "Logarithmic growth of a population of cells can be described mathematically as\n",
    "$$N = N_oe^{ln2(t/t_2)}$$\n",
    "(from page 177 of Methods in Yeast Genetics, 205 Edition) \n",
    "\n",
    "**See [here](http://meta.math.stackexchange.com/questions/5020/mathjax-basic-tutorial-and-quick-reference) for an awesome reference for MathJax**"
   ]
  },
  {
   "cell_type": "markdown",
   "metadata": {},
   "source": [
    "\"and use single \\$ (rather than double \\$\\$) to keep the equation in-line. stackoverflow.com/q/19412644/1224255\" - from http://stackoverflow.com/questions/13208286/how-to-write-latex-in-ipython-notebook  (<---this itself was tricky to write and I had to use minrk's April 18th answer at https://github.com/ipython/ipython/issues/3197/ as a basis"
   ]
  },
  {
   "cell_type": "markdown",
   "metadata": {
    "collapsed": true
   },
   "source": [
    "Based on [here](https://tex.stackexchange.com/questions/158897/how-do-i-get-a-hyphen-in-mathrm) I figured out (probably again) how to add hyphen when in math mode in Jupyter notebooks and not have it loolike a minus sign.\n",
    "\n",
    "$$\\frac{mito\\ purification\\ RNA\\textrm-Seq\\ data}{total\\ cell\\ RNA\\textrm-seq\\ data}$$\n",
    "\n",
    "VS.  \n",
    "\n",
    "$$\\frac{obs_a - obs_b}{exp_a - exp_b}$$\n",
    "\n"
   ]
  },
  {
   "cell_type": "code",
   "execution_count": 15,
   "metadata": {},
   "outputs": [
    {
     "data": {
      "text/latex": [
       "The mass-energy equivalence is described by the famous equation\n",
       " \n",
       "$$E=mc^2$$\n",
       " \n",
       "discovered in 1905 by Albert Einstein. \n",
       "In natural units ($c$ = 1), the formula expresses the identity\n",
       " \n",
       "\\begin{equation}\n",
       "E=m\n",
       "\\end{equation}"
      ],
      "text/plain": [
       "<IPython.core.display.Latex object>"
      ]
     },
     "execution_count": 15,
     "metadata": {},
     "output_type": "execute_result"
    }
   ],
   "source": [
    "#from JupyterLab demo notebook November 2, 2016\n",
    "from IPython.display import Latex\n",
    "Latex('''The mass-energy equivalence is described by the famous equation\n",
    " \n",
    "$$E=mc^2$$\n",
    " \n",
    "discovered in 1905 by Albert Einstein. \n",
    "In natural units ($c$ = 1), the formula expresses the identity\n",
    " \n",
    "\\\\begin{equation}\n",
    "E=m\n",
    "\\\\end{equation}''')"
   ]
  },
  {
   "cell_type": "code",
   "execution_count": 3,
   "metadata": {},
   "outputs": [
    {
     "data": {
      "text/latex": [
       "\\begin{aligned}\n",
       "\\nabla \\times \\vec{\\mathbf{B}} -\\, \\frac1c\\, \\frac{\\partial\\vec{\\mathbf{E}}}{\\partial t} & = \\frac{4\\pi}{c}\\vec{\\mathbf{j}} \\\\\n",
       "\\nabla \\cdot \\vec{\\mathbf{E}} & = 4 \\pi \\rho \\\\\n",
       "\\nabla \\times \\vec{\\mathbf{E}}\\, +\\, \\frac1c\\, \\frac{\\partial\\vec{\\mathbf{B}}}{\\partial t} & = \\vec{\\mathbf{0}} \\\\\n",
       "\\nabla \\cdot \\vec{\\mathbf{B}} & = 0\n",
       "\\end{aligned}"
      ],
      "text/plain": [
       "<IPython.core.display.Latex object>"
      ]
     },
     "metadata": {},
     "output_type": "display_data"
    }
   ],
   "source": [
    "%%latex\n",
    "\\begin{aligned}\n",
    "\\nabla \\times \\vec{\\mathbf{B}} -\\, \\frac1c\\, \\frac{\\partial\\vec{\\mathbf{E}}}{\\partial t} & = \\frac{4\\pi}{c}\\vec{\\mathbf{j}} \\\\\n",
    "\\nabla \\cdot \\vec{\\mathbf{E}} & = 4 \\pi \\rho \\\\\n",
    "\\nabla \\times \\vec{\\mathbf{E}}\\, +\\, \\frac1c\\, \\frac{\\partial\\vec{\\mathbf{B}}}{\\partial t} & = \\vec{\\mathbf{0}} \\\\\n",
    "\\nabla \\cdot \\vec{\\mathbf{B}} & = 0\n",
    "\\end{aligned}"
   ]
  },
  {
   "cell_type": "code",
   "execution_count": 11,
   "metadata": {},
   "outputs": [
    {
     "data": {
      "text/latex": [
       "\n",
       "$$\n",
       "\\frac{1}{3}\\\n",
       "$$\n",
       "\n",
       "$$\n",
       "\\frac{obs}{expe}\\\n",
       "$$\n",
       "\n",
       "$$ Ai(z) =\n",
       "\t\\frac13\\sqrt{z}\\left[\n",
       "\tI_{-1/3}(\\zeta)\n",
       "\t-I_{1/3}(\\zeta) \\right]\n",
       "\t=\n",
       "\t\\pi^{-1}\\sqrt{z/3}K_{1/3}(\\zeta)\n",
       "$$\n",
       "\n",
       "{\\bf 10.4.15}\n",
       "$$ Ai(-z) =\n",
       "\t\\frac13\\sqrt{z}\n",
       "\t\\left[\n",
       "\tJ_{1/3}(\\zeta) +\n",
       "\tJ_{-1/3}(\\zeta) \\right]\n",
       "\t=\n",
       "\t\\frac12 \\sqrt{z/3} \\left[\n",
       "\te^{\\pi i/6} H_{1/3}^{(1)}(\\zeta)\n",
       "\t+ e^{-\\pi i/6}H_{1/3}^{(2)}(\\zeta)\n",
       "\t\\right]\n",
       "$$"
      ],
      "text/plain": [
       "<IPython.core.display.Latex object>"
      ]
     },
     "metadata": {},
     "output_type": "display_data"
    }
   ],
   "source": [
    "%%latex\n",
    "\n",
    "$$\n",
    "\\frac{1}{3}\\\n",
    "$$\n",
    "\n",
    "$$\n",
    "\\frac{obs}{expe}\\\n",
    "$$\n",
    "\n",
    "$$ Ai(z) =\n",
    "\t\\frac13\\sqrt{z}\\left[\n",
    "\tI_{-1/3}(\\zeta)\n",
    "\t-I_{1/3}(\\zeta) \\right]\n",
    "\t=\n",
    "\t\\pi^{-1}\\sqrt{z/3}K_{1/3}(\\zeta)\n",
    "$$\n",
    "\n",
    "{\\bf 10.4.15}\n",
    "$$ Ai(-z) =\n",
    "\t\\frac13\\sqrt{z}\n",
    "\t\\left[\n",
    "\tJ_{1/3}(\\zeta) +\n",
    "\tJ_{-1/3}(\\zeta) \\right]\n",
    "\t=\n",
    "\t\\frac12 \\sqrt{z/3} \\left[\n",
    "\te^{\\pi i/6} H_{1/3}^{(1)}(\\zeta)\n",
    "\t+ e^{-\\pi i/6}H_{1/3}^{(2)}(\\zeta)\n",
    "\t\\right]\n",
    "$$\n"
   ]
  }
 ],
 "metadata": {
  "kernelspec": {
   "display_name": "Python 3",
   "language": "python",
   "name": "python3"
  },
  "language_info": {
   "codemirror_mode": {
    "name": "ipython",
    "version": 3
   },
   "file_extension": ".py",
   "mimetype": "text/x-python",
   "name": "python",
   "nbconvert_exporter": "python",
   "pygments_lexer": "ipython3",
   "version": "3.6.4"
  },
  "widgets": {
   "state": {},
   "version": "1.1.2"
  }
 },
 "nbformat": 4,
 "nbformat_minor": 1
}
