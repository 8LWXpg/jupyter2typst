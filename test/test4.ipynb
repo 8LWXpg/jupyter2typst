{
 "cells": [
  {
   "cell_type": "markdown",
   "metadata": {},
   "source": [
    "# h1\n",
    "## h2\n",
    "### h3\n",
    "#### h4\n",
    "##### h5\n",
    "###### h6\n",
    "**bold**\n",
    "*italic*\n",
    "***bold italic***\n",
    "~~strike through~~\n",
    "> quote\n",
    "- list\n",
    "- list\n",
    "- list\n",
    "1. list\n",
    "2. list\n",
    "3. list\n",
    "[link](https://www.google.com)\n",
    "![image](https://www.google.com/images/branding/googlelogo/1x/googlelogo_color_272x92dp.png)\n",
    "`code`\n",
    "---\n",
    "```\n",
    "code \n",
    "block\n",
    "```\n",
    "|table|table|table|\n",
    "|---|---|---|\n",
    "|table|table|table|\n",
    "|table|table|table|\n",
    "|table|table|table|\n"
   ]
  }
 ],
 "metadata": {
  "language_info": {
   "name": "python"
  },
  "orig_nbformat": 4
 },
 "nbformat": 4,
 "nbformat_minor": 2
}
